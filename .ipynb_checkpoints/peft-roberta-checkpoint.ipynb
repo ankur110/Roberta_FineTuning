{
 "cells": [
  {
   "cell_type": "code",
   "execution_count": 2,
   "metadata": {
    "colab": {
     "base_uri": "https://localhost:8080/"
    },
    "execution": {
     "iopub.execute_input": "2024-12-24T09:52:16.225679Z",
     "iopub.status.busy": "2024-12-24T09:52:16.225486Z",
     "iopub.status.idle": "2024-12-24T09:52:20.998174Z",
     "shell.execute_reply": "2024-12-24T09:52:20.997160Z",
     "shell.execute_reply.started": "2024-12-24T09:52:16.225661Z"
    },
    "id": "0ORyhuETikc3",
    "outputId": "547cf4ec-7719-48ac-b5e0-5db75a8542ce"
   },
   "outputs": [],
   "source": [
    "!pip install -qU accelerate peft bitsandbytes transformers trl huggingface_hub scipy tensorboard datasets matplotlib sacrebleu evaluate"
   ]
  },
  {
   "cell_type": "code",
   "execution_count": 4,
   "metadata": {
    "colab": {
     "base_uri": "https://localhost:8080/"
    },
    "execution": {
     "iopub.execute_input": "2024-12-24T09:53:55.838778Z",
     "iopub.status.busy": "2024-12-24T09:53:55.838451Z",
     "iopub.status.idle": "2024-12-24T09:54:00.031478Z",
     "shell.execute_reply": "2024-12-24T09:54:00.030622Z",
     "shell.execute_reply.started": "2024-12-24T09:53:55.838756Z"
    },
    "id": "Zzs4TFf6irLP",
    "outputId": "f22f740e-9819-4497-cd42-275fb09d83fb"
   },
   "outputs": [
    {
     "data": {
      "application/vnd.jupyter.widget-view+json": {
       "model_id": "dcc8e74ba20a4a73a738ccdf029f49ba",
       "version_major": 2,
       "version_minor": 0
      },
      "text/plain": [
       "README.md:   0%|          | 0.00/8.07k [00:00<?, ?B/s]"
      ]
     },
     "metadata": {},
     "output_type": "display_data"
    },
    {
     "data": {
      "application/vnd.jupyter.widget-view+json": {
       "model_id": "69a2e418cf6b4ea3bbb38df723107541",
       "version_major": 2,
       "version_minor": 0
      },
      "text/plain": [
       "train-00000-of-00001.parquet:   0%|          | 0.00/18.6M [00:00<?, ?B/s]"
      ]
     },
     "metadata": {},
     "output_type": "display_data"
    },
    {
     "data": {
      "application/vnd.jupyter.widget-view+json": {
       "model_id": "26ad0d039ec846c89f3f597d51c34598",
       "version_major": 2,
       "version_minor": 0
      },
      "text/plain": [
       "test-00000-of-00001.parquet:   0%|          | 0.00/1.23M [00:00<?, ?B/s]"
      ]
     },
     "metadata": {},
     "output_type": "display_data"
    },
    {
     "data": {
      "application/vnd.jupyter.widget-view+json": {
       "model_id": "9c3cca06b9334bb1ac4e6e22940fb084",
       "version_major": 2,
       "version_minor": 0
      },
      "text/plain": [
       "Generating train split:   0%|          | 0/120000 [00:00<?, ? examples/s]"
      ]
     },
     "metadata": {},
     "output_type": "display_data"
    },
    {
     "data": {
      "application/vnd.jupyter.widget-view+json": {
       "model_id": "ca34f43ce7a04962b94f3c71dd5de7de",
       "version_major": 2,
       "version_minor": 0
      },
      "text/plain": [
       "Generating test split:   0%|          | 0/7600 [00:00<?, ? examples/s]"
      ]
     },
     "metadata": {},
     "output_type": "display_data"
    }
   ],
   "source": [
    "from datasets import load_dataset\n",
    "\n",
    "ds = load_dataset(\"ag_news\")"
   ]
  },
  {
   "cell_type": "code",
   "execution_count": 4,
   "metadata": {
    "execution": {
     "iopub.execute_input": "2024-12-24T09:25:56.023947Z",
     "iopub.status.busy": "2024-12-24T09:25:56.023690Z",
     "iopub.status.idle": "2024-12-24T09:25:56.029347Z",
     "shell.execute_reply": "2024-12-24T09:25:56.028552Z",
     "shell.execute_reply.started": "2024-12-24T09:25:56.023924Z"
    }
   },
   "outputs": [
    {
     "data": {
      "text/plain": [
       "DatasetDict({\n",
       "    train: Dataset({\n",
       "        features: ['text', 'label'],\n",
       "        num_rows: 120000\n",
       "    })\n",
       "    test: Dataset({\n",
       "        features: ['text', 'label'],\n",
       "        num_rows: 7600\n",
       "    })\n",
       "})"
      ]
     },
     "execution_count": 4,
     "metadata": {},
     "output_type": "execute_result"
    }
   ],
   "source": [
    "ds"
   ]
  },
  {
   "cell_type": "code",
   "execution_count": 9,
   "metadata": {
    "execution": {
     "iopub.execute_input": "2024-12-24T09:55:10.715679Z",
     "iopub.status.busy": "2024-12-24T09:55:10.715272Z",
     "iopub.status.idle": "2024-12-24T09:55:10.719816Z",
     "shell.execute_reply": "2024-12-24T09:55:10.718881Z",
     "shell.execute_reply.started": "2024-12-24T09:55:10.715647Z"
    }
   },
   "outputs": [],
   "source": [
    "import peft\n",
    "from transformers import TrainingArguments\n",
    "from peft import LoraConfig, PeftModel,get_peft_model\n",
    "from trl import SFTTrainer"
   ]
  },
  {
   "cell_type": "code",
   "execution_count": 5,
   "metadata": {
    "execution": {
     "iopub.execute_input": "2024-12-24T09:54:08.501174Z",
     "iopub.status.busy": "2024-12-24T09:54:08.500852Z",
     "iopub.status.idle": "2024-12-24T09:54:08.884630Z",
     "shell.execute_reply": "2024-12-24T09:54:08.883856Z",
     "shell.execute_reply.started": "2024-12-24T09:54:08.501145Z"
    },
    "id": "fvqSEAryitaD"
   },
   "outputs": [],
   "source": [
    "import torch\n",
    "from transformers import (\n",
    "    AutoTokenizer,\n",
    "    AutoModelForSequenceClassification,\n",
    "    TrainingArguments,\n",
    "    Trainer,\n",
    "    DataCollatorWithPadding\n",
    ")\n",
    "from datasets import DatasetDict, Dataset\n",
    "import evaluate\n",
    "import numpy as np"
   ]
  },
  {
   "cell_type": "code",
   "execution_count": 6,
   "metadata": {
    "execution": {
     "iopub.execute_input": "2024-12-24T09:54:14.187630Z",
     "iopub.status.busy": "2024-12-24T09:54:14.187177Z",
     "iopub.status.idle": "2024-12-24T09:54:15.782850Z",
     "shell.execute_reply": "2024-12-24T09:54:15.781884Z",
     "shell.execute_reply.started": "2024-12-24T09:54:14.187594Z"
    },
    "id": "dEUJsvKJi138"
   },
   "outputs": [
    {
     "data": {
      "application/vnd.jupyter.widget-view+json": {
       "model_id": "20bd47af94fd4f11af1d67757164cf4c",
       "version_major": 2,
       "version_minor": 0
      },
      "text/plain": [
       "tokenizer_config.json:   0%|          | 0.00/25.0 [00:00<?, ?B/s]"
      ]
     },
     "metadata": {},
     "output_type": "display_data"
    },
    {
     "data": {
      "application/vnd.jupyter.widget-view+json": {
       "model_id": "b3f9243459454434a56d5fdbc03179ac",
       "version_major": 2,
       "version_minor": 0
      },
      "text/plain": [
       "config.json:   0%|          | 0.00/482 [00:00<?, ?B/s]"
      ]
     },
     "metadata": {},
     "output_type": "display_data"
    },
    {
     "data": {
      "application/vnd.jupyter.widget-view+json": {
       "model_id": "8c9314ea37564a0caebeda51baa9b6b5",
       "version_major": 2,
       "version_minor": 0
      },
      "text/plain": [
       "vocab.json:   0%|          | 0.00/899k [00:00<?, ?B/s]"
      ]
     },
     "metadata": {},
     "output_type": "display_data"
    },
    {
     "data": {
      "application/vnd.jupyter.widget-view+json": {
       "model_id": "30de52bf34414b90adb0f8ffb7c878fa",
       "version_major": 2,
       "version_minor": 0
      },
      "text/plain": [
       "merges.txt:   0%|          | 0.00/456k [00:00<?, ?B/s]"
      ]
     },
     "metadata": {},
     "output_type": "display_data"
    },
    {
     "data": {
      "application/vnd.jupyter.widget-view+json": {
       "model_id": "55e8cd0822a7443a8cbe3a2994e4bcdd",
       "version_major": 2,
       "version_minor": 0
      },
      "text/plain": [
       "tokenizer.json:   0%|          | 0.00/1.36M [00:00<?, ?B/s]"
      ]
     },
     "metadata": {},
     "output_type": "display_data"
    }
   ],
   "source": [
    "tokenizer = AutoTokenizer.from_pretrained(\"FacebookAI/roberta-large\")"
   ]
  },
  {
   "cell_type": "code",
   "execution_count": 7,
   "metadata": {
    "execution": {
     "iopub.execute_input": "2024-12-24T09:54:17.106086Z",
     "iopub.status.busy": "2024-12-24T09:54:17.105775Z",
     "iopub.status.idle": "2024-12-24T09:54:37.761255Z",
     "shell.execute_reply": "2024-12-24T09:54:37.760569Z",
     "shell.execute_reply.started": "2024-12-24T09:54:17.106058Z"
    }
   },
   "outputs": [
    {
     "data": {
      "application/vnd.jupyter.widget-view+json": {
       "model_id": "05aa2b0582e747968bb1a9faa3642a68",
       "version_major": 2,
       "version_minor": 0
      },
      "text/plain": [
       "Map:   0%|          | 0/120000 [00:00<?, ? examples/s]"
      ]
     },
     "metadata": {},
     "output_type": "display_data"
    },
    {
     "data": {
      "application/vnd.jupyter.widget-view+json": {
       "model_id": "ea7fa4490d754aa5bff11b0f09da9612",
       "version_major": 2,
       "version_minor": 0
      },
      "text/plain": [
       "Map:   0%|          | 0/7600 [00:00<?, ? examples/s]"
      ]
     },
     "metadata": {},
     "output_type": "display_data"
    },
    {
     "name": "stdout",
     "output_type": "stream",
     "text": [
      "number of labels: 4\n",
      "the labels: ['World', 'Sports', 'Business', 'Sci/Tech']\n"
     ]
    }
   ],
   "source": [
    "def preprocess(examples):\n",
    "    tokenized = tokenizer(examples['text'], truncation=True, padding=True)\n",
    "    return tokenized\n",
    "tokenized_dataset = ds.map(preprocess, batched=True,  remove_columns=[\"text\"])\n",
    "train_dataset=tokenized_dataset['train']\n",
    "eval_dataset=tokenized_dataset['test'].shard(num_shards=2, index=0)\n",
    "test_dataset=tokenized_dataset['test'].shard(num_shards=2, index=1)\n",
    "\n",
    "\n",
    "\n",
    "num_labels = ds['train'].features['label'].num_classes\n",
    "class_names = ds[\"train\"].features[\"label\"].names\n",
    "print(f\"number of labels: {num_labels}\")\n",
    "print(f\"the labels: {class_names}\")\n",
    "\n",
    "id2label = {i: label for i, label in enumerate(class_names)}\n",
    "\n",
    "data_collator = DataCollatorWithPadding(tokenizer=tokenizer, return_tensors=\"pt\")"
   ]
  },
  {
   "cell_type": "code",
   "execution_count": 17,
   "metadata": {
    "execution": {
     "iopub.execute_input": "2024-12-24T09:56:44.399562Z",
     "iopub.status.busy": "2024-12-24T09:56:44.399199Z",
     "iopub.status.idle": "2024-12-24T09:56:44.697792Z",
     "shell.execute_reply": "2024-12-24T09:56:44.696897Z",
     "shell.execute_reply.started": "2024-12-24T09:56:44.399534Z"
    }
   },
   "outputs": [
    {
     "name": "stderr",
     "output_type": "stream",
     "text": [
      "Some weights of RobertaForSequenceClassification were not initialized from the model checkpoint at FacebookAI/roberta-large and are newly initialized: ['classifier.dense.bias', 'classifier.dense.weight', 'classifier.out_proj.bias', 'classifier.out_proj.weight']\n",
      "You should probably TRAIN this model on a down-stream task to be able to use it for predictions and inference.\n"
     ]
    },
    {
     "name": "stdout",
     "output_type": "stream",
     "text": [
      "PEFT Model\n",
      "trainable params: 1,840,132 || all params: 357,203,976 || trainable%: 0.5151\n"
     ]
    }
   ],
   "source": [
    "model = AutoModelForSequenceClassification.from_pretrained(\"FacebookAI/roberta-large\", id2label=id2label)\n",
    "\n",
    "peft_config = LoraConfig(task_type=\"SEQ_CLS\", inference_mode=False, r=8, lora_alpha=16, lora_dropout=0.1)\n",
    "peft_model = get_peft_model(model, peft_config)\n",
    "\n",
    "print('PEFT Model')\n",
    "peft_model.print_trainable_parameters()\n"
   ]
  },
  {
   "cell_type": "code",
   "execution_count": null,
   "metadata": {},
   "outputs": [],
   "source": []
  },
  {
   "cell_type": "code",
   "execution_count": 13,
   "metadata": {
    "execution": {
     "iopub.execute_input": "2024-12-24T09:55:56.725404Z",
     "iopub.status.busy": "2024-12-24T09:55:56.725033Z",
     "iopub.status.idle": "2024-12-24T09:55:56.730271Z",
     "shell.execute_reply": "2024-12-24T09:55:56.729441Z",
     "shell.execute_reply.started": "2024-12-24T09:55:56.725374Z"
    },
    "id": "sYrH5QEozDqf"
   },
   "outputs": [],
   "source": [
    "import numpy as np\n",
    "import evaluate\n",
    "from sklearn.metrics import f1_score, precision_score, recall_score\n",
    "\n",
    "def compute_metrics(eval_pred):\n",
    "    predictions, labels = eval_pred\n",
    "    predictions = np.argmax(predictions, axis=1)\n",
    "\n",
    "\n",
    "    accuracy = evaluate.load(\"accuracy\")\n",
    "\n",
    "\n",
    "    accuracy_result = accuracy.compute(predictions=predictions, references=labels)\n",
    "\n",
    "    f1_result = f1_score(labels, predictions, average=\"weighted\")\n",
    "    precision_result = precision_score(labels, predictions, average=\"weighted\")\n",
    "    recall_result = recall_score(labels, predictions, average=\"weighted\")\n",
    "\n",
    "    results = {\n",
    "        \"accuracy\": accuracy_result[\"accuracy\"],\n",
    "        \"f1\": f1_result,\n",
    "        \"precision\": precision_result,\n",
    "        \"recall\": recall_result,\n",
    "    }\n",
    "\n",
    "    return results"
   ]
  },
  {
   "cell_type": "code",
   "execution_count": 8,
   "metadata": {
    "execution": {
     "iopub.execute_input": "2024-12-23T13:02:01.440458Z",
     "iopub.status.busy": "2024-12-23T13:02:01.440134Z",
     "iopub.status.idle": "2024-12-23T13:02:01.858489Z",
     "shell.execute_reply": "2024-12-23T13:02:01.857684Z",
     "shell.execute_reply.started": "2024-12-23T13:02:01.440412Z"
    },
    "id": "RECk1XoOlc1x"
   },
   "outputs": [],
   "source": [
    "num_labels=len(set(ds[\"train\"][\"label\"]))"
   ]
  },
  {
   "cell_type": "code",
   "execution_count": 9,
   "metadata": {
    "colab": {
     "base_uri": "https://localhost:8080/"
    },
    "execution": {
     "iopub.execute_input": "2024-12-23T13:02:01.859642Z",
     "iopub.status.busy": "2024-12-23T13:02:01.859330Z",
     "iopub.status.idle": "2024-12-23T13:02:01.875040Z",
     "shell.execute_reply": "2024-12-23T13:02:01.874136Z",
     "shell.execute_reply.started": "2024-12-23T13:02:01.859613Z"
    },
    "id": "Tamhe2FDljj7",
    "outputId": "0d06e143-a1c3-4c0c-d188-6d56a6e1d2cd"
   },
   "outputs": [
    {
     "data": {
      "text/plain": [
       "20"
      ]
     },
     "execution_count": 9,
     "metadata": {},
     "output_type": "execute_result"
    }
   ],
   "source": [
    "num_labels"
   ]
  },
  {
   "cell_type": "code",
   "execution_count": 11,
   "metadata": {
    "colab": {
     "base_uri": "https://localhost:8080/"
    },
    "execution": {
     "iopub.execute_input": "2024-12-23T13:02:08.912566Z",
     "iopub.status.busy": "2024-12-23T13:02:08.912308Z",
     "iopub.status.idle": "2024-12-23T13:02:08.917365Z",
     "shell.execute_reply": "2024-12-23T13:02:08.916734Z",
     "shell.execute_reply.started": "2024-12-23T13:02:08.912542Z"
    },
    "id": "W7wYs0Ygo8Ps",
    "outputId": "d2151a60-24c9-41f7-ff80-ab5d7a591672"
   },
   "outputs": [
    {
     "data": {
      "text/plain": [
       "DatasetDict({\n",
       "    train: Dataset({\n",
       "        features: ['label', 'input_ids', 'attention_mask'],\n",
       "        num_rows: 11314\n",
       "    })\n",
       "    test: Dataset({\n",
       "        features: ['label', 'input_ids', 'attention_mask'],\n",
       "        num_rows: 7532\n",
       "    })\n",
       "})"
      ]
     },
     "execution_count": 11,
     "metadata": {},
     "output_type": "execute_result"
    }
   ],
   "source": [
    "tokenized_dataset"
   ]
  },
  {
   "cell_type": "code",
   "execution_count": 18,
   "metadata": {
    "execution": {
     "iopub.execute_input": "2024-12-24T09:57:03.427884Z",
     "iopub.status.busy": "2024-12-24T09:57:03.427551Z",
     "iopub.status.idle": "2024-12-24T09:57:03.456506Z",
     "shell.execute_reply": "2024-12-24T09:57:03.455766Z",
     "shell.execute_reply.started": "2024-12-24T09:57:03.427857Z"
    },
    "id": "yQgdPa8AluYJ"
   },
   "outputs": [],
   "source": [
    "training_args=TrainingArguments(\n",
    "    output_dir=\"./roberta_classifier\",\n",
    "    learning_rate=2e-5,\n",
    "    per_device_train_batch_size=16,\n",
    "    per_device_eval_batch_size=16,\n",
    "    num_train_epochs=1,\n",
    "    save_steps=1000,\n",
    "    eval_steps=1000,\n",
    "    weight_decay=0.01,\n",
    "    eval_strategy=\"steps\",\n",
    "    # save_strategy=\"steps\",\n",
    "    load_best_model_at_end=True,\n",
    "    metric_for_best_model=\"f1\",\n",
    "    push_to_hub=False,\n",
    "    logging_dir=\"./logs\",\n",
    "    logging_steps=100,\n",
    "    report_to=\"tensorboard\"\n",
    ")"
   ]
  },
  {
   "cell_type": "code",
   "execution_count": 19,
   "metadata": {
    "execution": {
     "iopub.execute_input": "2024-12-24T09:57:05.545967Z",
     "iopub.status.busy": "2024-12-24T09:57:05.545680Z",
     "iopub.status.idle": "2024-12-24T09:57:06.143007Z",
     "shell.execute_reply": "2024-12-24T09:57:06.142341Z",
     "shell.execute_reply.started": "2024-12-24T09:57:05.545946Z"
    },
    "id": "PJIVzwZ4mpa-"
   },
   "outputs": [],
   "source": [
    "trainer=Trainer(\n",
    "    model=peft_model,\n",
    "    args=training_args,\n",
    "    train_dataset=train_dataset,\n",
    "    eval_dataset=eval_dataset,\n",
    "    compute_metrics=compute_metrics,\n",
    "    data_collator=DataCollatorWithPadding(tokenizer)\n",
    ")"
   ]
  },
  {
   "cell_type": "code",
   "execution_count": null,
   "metadata": {},
   "outputs": [],
   "source": []
  },
  {
   "cell_type": "code",
   "execution_count": 20,
   "metadata": {
    "colab": {
     "base_uri": "https://localhost:8080/",
     "height": 138
    },
    "execution": {
     "iopub.execute_input": "2024-12-24T09:57:11.661628Z",
     "iopub.status.busy": "2024-12-24T09:57:11.661280Z",
     "iopub.status.idle": "2024-12-24T12:42:24.782123Z",
     "shell.execute_reply": "2024-12-24T12:42:24.781400Z",
     "shell.execute_reply.started": "2024-12-24T09:57:11.661602Z"
    },
    "id": "4cqTno8YnGZ-",
    "outputId": "fc6462b0-adc7-4ab2-d997-27b525d03c4b"
   },
   "outputs": [
    {
     "data": {
      "text/html": [
       "\n",
       "    <div>\n",
       "      \n",
       "      <progress value='7500' max='7500' style='width:300px; height:20px; vertical-align: middle;'></progress>\n",
       "      [7500/7500 2:45:11, Epoch 1/1]\n",
       "    </div>\n",
       "    <table border=\"1\" class=\"dataframe\">\n",
       "  <thead>\n",
       " <tr style=\"text-align: left;\">\n",
       "      <th>Step</th>\n",
       "      <th>Training Loss</th>\n",
       "      <th>Validation Loss</th>\n",
       "      <th>Accuracy</th>\n",
       "      <th>F1</th>\n",
       "      <th>Precision</th>\n",
       "      <th>Recall</th>\n",
       "    </tr>\n",
       "  </thead>\n",
       "  <tbody>\n",
       "    <tr>\n",
       "      <td>1000</td>\n",
       "      <td>0.267400</td>\n",
       "      <td>0.321892</td>\n",
       "      <td>0.901842</td>\n",
       "      <td>0.901505</td>\n",
       "      <td>0.901446</td>\n",
       "      <td>0.901842</td>\n",
       "    </tr>\n",
       "    <tr>\n",
       "      <td>2000</td>\n",
       "      <td>0.228200</td>\n",
       "      <td>0.303268</td>\n",
       "      <td>0.908684</td>\n",
       "      <td>0.908270</td>\n",
       "      <td>0.908335</td>\n",
       "      <td>0.908684</td>\n",
       "    </tr>\n",
       "    <tr>\n",
       "      <td>3000</td>\n",
       "      <td>0.298500</td>\n",
       "      <td>0.268969</td>\n",
       "      <td>0.910263</td>\n",
       "      <td>0.910052</td>\n",
       "      <td>0.910241</td>\n",
       "      <td>0.910263</td>\n",
       "    </tr>\n",
       "    <tr>\n",
       "      <td>4000</td>\n",
       "      <td>0.241400</td>\n",
       "      <td>0.265981</td>\n",
       "      <td>0.911316</td>\n",
       "      <td>0.910969</td>\n",
       "      <td>0.910806</td>\n",
       "      <td>0.911316</td>\n",
       "    </tr>\n",
       "    <tr>\n",
       "      <td>5000</td>\n",
       "      <td>0.236400</td>\n",
       "      <td>0.259376</td>\n",
       "      <td>0.914474</td>\n",
       "      <td>0.914257</td>\n",
       "      <td>0.914906</td>\n",
       "      <td>0.914474</td>\n",
       "    </tr>\n",
       "    <tr>\n",
       "      <td>6000</td>\n",
       "      <td>0.231900</td>\n",
       "      <td>0.254145</td>\n",
       "      <td>0.917632</td>\n",
       "      <td>0.917308</td>\n",
       "      <td>0.917342</td>\n",
       "      <td>0.917632</td>\n",
       "    </tr>\n",
       "    <tr>\n",
       "      <td>7000</td>\n",
       "      <td>0.190400</td>\n",
       "      <td>0.248881</td>\n",
       "      <td>0.916053</td>\n",
       "      <td>0.915737</td>\n",
       "      <td>0.915774</td>\n",
       "      <td>0.916053</td>\n",
       "    </tr>\n",
       "  </tbody>\n",
       "</table><p>"
      ],
      "text/plain": [
       "<IPython.core.display.HTML object>"
      ]
     },
     "metadata": {},
     "output_type": "display_data"
    },
    {
     "data": {
      "application/vnd.jupyter.widget-view+json": {
       "model_id": "6c3a04b15f6d4c17bc1c5a9802499546",
       "version_major": 2,
       "version_minor": 0
      },
      "text/plain": [
       "Downloading builder script:   0%|          | 0.00/4.20k [00:00<?, ?B/s]"
      ]
     },
     "metadata": {},
     "output_type": "display_data"
    },
    {
     "data": {
      "text/plain": [
       "TrainOutput(global_step=7500, training_loss=0.2757459762573242, metrics={'train_runtime': 9912.6266, 'train_samples_per_second': 12.106, 'train_steps_per_second': 0.757, 'total_flos': 7.2301650394603e+16, 'train_loss': 0.2757459762573242, 'epoch': 1.0})"
      ]
     },
     "execution_count": 20,
     "metadata": {},
     "output_type": "execute_result"
    }
   ],
   "source": [
    "trainer.train()"
   ]
  },
  {
   "cell_type": "code",
   "execution_count": 25,
   "metadata": {
    "execution": {
     "iopub.execute_input": "2024-12-24T13:07:08.835718Z",
     "iopub.status.busy": "2024-12-24T13:07:08.835365Z",
     "iopub.status.idle": "2024-12-24T13:07:09.093680Z",
     "shell.execute_reply": "2024-12-24T13:07:09.092814Z",
     "shell.execute_reply.started": "2024-12-24T13:07:08.835690Z"
    }
   },
   "outputs": [],
   "source": [
    "trainer.save_model(\"./trained_model\")"
   ]
  },
  {
   "cell_type": "code",
   "execution_count": 33,
   "metadata": {
    "execution": {
     "iopub.execute_input": "2024-12-24T13:18:38.615705Z",
     "iopub.status.busy": "2024-12-24T13:18:38.615364Z",
     "iopub.status.idle": "2024-12-24T13:18:38.632361Z",
     "shell.execute_reply": "2024-12-24T13:18:38.631262Z",
     "shell.execute_reply.started": "2024-12-24T13:18:38.615685Z"
    }
   },
   "outputs": [
    {
     "data": {
      "application/vnd.jupyter.widget-view+json": {
       "model_id": "a5baab2fd5cb4361b2740fae08a3d1af",
       "version_major": 2,
       "version_minor": 0
      },
      "text/plain": [
       "VBox(children=(HTML(value='<center> <img\\nsrc=https://huggingface.co/front/assets/huggingface_logo-noborder.sv…"
      ]
     },
     "metadata": {},
     "output_type": "display_data"
    }
   ],
   "source": [
    "from huggingface_hub import login\n",
    "login()"
   ]
  },
  {
   "cell_type": "code",
   "execution_count": 34,
   "metadata": {
    "execution": {
     "iopub.execute_input": "2024-12-24T13:18:45.948431Z",
     "iopub.status.busy": "2024-12-24T13:18:45.948096Z",
     "iopub.status.idle": "2024-12-24T13:18:50.671136Z",
     "shell.execute_reply": "2024-12-24T13:18:50.670408Z",
     "shell.execute_reply.started": "2024-12-24T13:18:45.948404Z"
    }
   },
   "outputs": [
    {
     "data": {
      "application/vnd.jupyter.widget-view+json": {
       "model_id": "67eb194506b1499cab6a0cbdf7c25a43",
       "version_major": 2,
       "version_minor": 0
      },
      "text/plain": [
       "adapter_model.safetensors:   0%|          | 0.00/7.37M [00:00<?, ?B/s]"
      ]
     },
     "metadata": {},
     "output_type": "display_data"
    },
    {
     "data": {
      "application/vnd.jupyter.widget-view+json": {
       "model_id": "2374fb537dfb46ada7a9963e7e0b72bc",
       "version_major": 2,
       "version_minor": 0
      },
      "text/plain": [
       "README.md:   0%|          | 0.00/5.17k [00:00<?, ?B/s]"
      ]
     },
     "metadata": {},
     "output_type": "display_data"
    },
    {
     "data": {
      "text/plain": [
       "CommitInfo(commit_url='https://huggingface.co/Ank110/peft_roberta/commit/5ed6921a0ddb9245d656e86ebaa4134143eb7b72', commit_message='Upload tokenizer', commit_description='', oid='5ed6921a0ddb9245d656e86ebaa4134143eb7b72', pr_url=None, repo_url=RepoUrl('https://huggingface.co/Ank110/peft_roberta', endpoint='https://huggingface.co', repo_type='model', repo_id='Ank110/peft_roberta'), pr_revision=None, pr_num=None)"
      ]
     },
     "execution_count": 34,
     "metadata": {},
     "output_type": "execute_result"
    }
   ],
   "source": [
    "peft_model.push_to_hub(\"peft_roberta\")\n",
    "tokenizer.push_to_hub(\"peft_roberta\")"
   ]
  },
  {
   "cell_type": "code",
   "execution_count": 23,
   "metadata": {
    "execution": {
     "iopub.execute_input": "2024-12-24T12:43:22.928818Z",
     "iopub.status.busy": "2024-12-24T12:43:22.928492Z",
     "iopub.status.idle": "2024-12-24T12:43:23.387231Z",
     "shell.execute_reply": "2024-12-24T12:43:23.386426Z",
     "shell.execute_reply.started": "2024-12-24T12:43:22.928792Z"
    }
   },
   "outputs": [],
   "source": [
    "from torch.utils.data import DataLoader\n",
    "import evaluate\n",
    "from tqdm import tqdm\n",
    "\n",
    "metric = evaluate.load('accuracy')\n",
    "\n",
    "def evaluate_model(inference_model, dataset):\n",
    "\n",
    "    eval_dataloader = DataLoader(dataset.rename_column(\"label\", \"labels\"), batch_size=8, collate_fn=data_collator)\n",
    "    device = torch.device(\"cuda\" if torch.cuda.is_available() else \"cpu\")\n",
    "\n",
    "    inference_model.to(device)\n",
    "    inference_model.eval()\n",
    "    for step, batch in enumerate(tqdm(eval_dataloader)):\n",
    "        batch.to(device)\n",
    "        with torch.no_grad():\n",
    "            outputs = inference_model(**batch)\n",
    "        predictions = outputs.logits.argmax(dim=-1)\n",
    "        predictions, references = predictions, batch[\"labels\"]\n",
    "        metric.add_batch(\n",
    "            predictions=predictions,\n",
    "            references=references,\n",
    "        )\n",
    "\n",
    "    eval_metric = metric.compute()\n",
    "    print(eval_metric)"
   ]
  },
  {
   "cell_type": "code",
   "execution_count": 24,
   "metadata": {
    "execution": {
     "iopub.execute_input": "2024-12-24T12:45:18.381207Z",
     "iopub.status.busy": "2024-12-24T12:45:18.380907Z",
     "iopub.status.idle": "2024-12-24T12:46:42.339120Z",
     "shell.execute_reply": "2024-12-24T12:46:42.338396Z",
     "shell.execute_reply.started": "2024-12-24T12:45:18.381185Z"
    }
   },
   "outputs": [
    {
     "name": "stderr",
     "output_type": "stream",
     "text": [
      "100%|██████████| 475/475 [01:23<00:00,  5.66it/s]"
     ]
    },
    {
     "name": "stdout",
     "output_type": "stream",
     "text": [
      "{'accuracy': 0.9315789473684211}\n"
     ]
    },
    {
     "name": "stderr",
     "output_type": "stream",
     "text": [
      "\n"
     ]
    }
   ],
   "source": [
    "evaluate_model(peft_model, test_dataset)"
   ]
  },
  {
   "cell_type": "code",
   "execution_count": null,
   "metadata": {},
   "outputs": [],
   "source": []
  }
 ],
 "metadata": {
  "accelerator": "GPU",
  "colab": {
   "gpuType": "T4",
   "provenance": []
  },
  "kaggle": {
   "accelerator": "gpu",
   "dataSources": [],
   "dockerImageVersionId": 30823,
   "isGpuEnabled": true,
   "isInternetEnabled": true,
   "language": "python",
   "sourceType": "notebook"
  },
  "kernelspec": {
   "display_name": "Python 3 (ipykernel)",
   "language": "python",
   "name": "python3"
  },
  "language_info": {
   "codemirror_mode": {
    "name": "ipython",
    "version": 3
   },
   "file_extension": ".py",
   "mimetype": "text/x-python",
   "name": "python",
   "nbconvert_exporter": "python",
   "pygments_lexer": "ipython3",
   "version": "3.11.9"
  }
 },
 "nbformat": 4,
 "nbformat_minor": 4
}
